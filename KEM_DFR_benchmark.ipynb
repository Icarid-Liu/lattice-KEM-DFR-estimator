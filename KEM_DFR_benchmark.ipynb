{
 "cells": [
  {
   "cell_type": "code",
   "id": "2d69cfd339f10e9b",
   "metadata": {
    "vscode": {
     "languageId": "python"
    },
    "ExecuteTime": {
     "end_time": "2025-10-27T11:40:07.696720Z",
     "start_time": "2025-10-27T11:40:07.693156Z"
    }
   },
   "source": [
    "from sage.all import *\n",
    "from DFR_utils import *\n",
    "import warnings\n",
    "warnings.filterwarnings(\"ignore\", category=DeprecationWarning)\n",
    "# load('./DFR_utils.sage')"
   ],
   "outputs": [],
   "execution_count": 12
  },
  {
   "metadata": {
    "ExecuteTime": {
     "end_time": "2025-10-27T11:40:14.346649Z",
     "start_time": "2025-10-27T11:40:13.264018Z"
    }
   },
   "cell_type": "code",
   "source": [
    "# DAWN-alpha NIST-I\n",
    "n = 512\n",
    "q = 769\n",
    "kg = 160\n",
    "kf = 64\n",
    "ks = 96\n",
    "ke = 160\n",
    "\n",
    "Ds = build_ternary_distribution(n, ks, ks)\n",
    "Df = build_ternary_distribution(n, kf, kf)\n",
    "De_dc = build_uniform_distribution(-3, 3)\n",
    "Dm = build_ternary_distribution(n, n//4, 0)\n",
    "De = build_ternary_distribution(n, ke, ke)\n",
    "De_e_dc = add_distribution(De, De_dc)\n",
    "Dg = build_ternary_distribution(n, kg, kg)\n",
    "\n",
    "Dfe = calculate_convolution_pdf(n, Df, De_e_dc)\n",
    "Dgs = calculate_convolution_pdf(n, Dg, Ds)\n",
    "Dfm = calculate_convolution_pdf(n, Df, Dm)\n",
    "Dgs_fe = add_distribution(Dgs, Dfe)\n",
    "Dgs_fe2 = add_distribution(Dgs_fe, Dgs_fe)\n",
    "Dgs_fe2_fm = add_distribution(Dgs_fe2, Dfm)\n",
    "\n",
    "_, P1 = calculate_DRF(Dgs_fe2_fm, q//2, n, 1)\n",
    "\n",
    "Dz = Dgs_fe2_fm\n",
    "Dabs_z = {}\n",
    "for vi in Dz:\n",
    "    if abs(vi) not in Dabs_z:\n",
    "        Dabs_z[abs(vi)] = Dz[vi]\n",
    "    else:\n",
    "        Dabs_z[abs(vi)] += Dz[vi]\n",
    "Dz2 = add_distribution(Dabs_z, Dabs_z)\n",
    "_, P2 = calculate_DRF(Dz2, q, 3 * n, 0)\n",
    "\n",
    "P = P1 + P2\n",
    "print('log(P1, 2) =', RR(log(P1, 2)))\n",
    "print('log(P2, 2) =', RR(log(P2, 2)))\n",
    "print('log(DFR, 2) =', RR(log(P, 2)))\n",
    "# -133 in DAWN paper"
   ],
   "id": "21ca6a16d57083eb",
   "outputs": [
    {
     "name": "stdout",
     "output_type": "stream",
     "text": [
      "log(P1, 2) = -133.146278336399\n",
      "log(P2, 2) = -134.525344150895\n",
      "log(DFR, 2) = -132.676946973757\n"
     ]
    }
   ],
   "execution_count": 13
  },
  {
   "metadata": {
    "ExecuteTime": {
     "end_time": "2025-10-27T11:40:14.906365Z",
     "start_time": "2025-10-27T11:40:14.437461Z"
    }
   },
   "cell_type": "code",
   "source": [
    "# DAWN-alpha^prime NIST-I\n",
    "n = 512\n",
    "q = 769\n",
    "kg = 160\n",
    "kf = 64\n",
    "ks = 96\n",
    "ke = 160\n",
    "\n",
    "Ds = build_ternary_distribution(n, ks, ks)\n",
    "Df = build_ternary_distribution(n, kf, kf)\n",
    "De_dc = build_uniform_distribution(-1, 1)\n",
    "Dm = build_ternary_distribution(n, n//4, 0)\n",
    "De = build_ternary_distribution(n, ke, ke)\n",
    "De_e_dc = add_distribution(De, De_dc)\n",
    "Dg = build_ternary_distribution(n, kg, kg)\n",
    "\n",
    "Dfe = calculate_convolution_pdf(n, Df, De_e_dc)\n",
    "Dgs = calculate_convolution_pdf(n, Dg, Ds)\n",
    "Dfm = calculate_convolution_pdf(n, Df, Dm)\n",
    "Dgs_fe = add_distribution(Dgs, Dfe)\n",
    "Dgs_fe2 = add_distribution(Dgs_fe, Dgs_fe)\n",
    "Dgs_fe2_fm = add_distribution(Dgs_fe2, Dfm)\n",
    "\n",
    "_, P1 = calculate_DRF(Dgs_fe2_fm, q//2, n, 0)\n",
    "\n",
    "Dz = Dgs_fe2_fm\n",
    "Dabs_z = {}\n",
    "for vi in Dz:\n",
    "    if abs(vi) not in Dabs_z:\n",
    "        Dabs_z[abs(vi)] = Dz[vi]\n",
    "    else:\n",
    "        Dabs_z[abs(vi)] += Dz[vi]\n",
    "Dz2 = add_distribution(Dabs_z, Dabs_z)\n",
    "_, P2 = calculate_DRF(Dz2, q, 3 * n, 0)\n",
    "\n",
    "P = P1 + P2\n",
    "print('log(P1, 2) =', RR(log(P1, 2)))\n",
    "print('log(P2, 2) =', RR(log(P2, 2)))\n",
    "print('log(DFR, 2) =', RR(log(P, 2)))\n",
    "# -133 in DAWN paper"
   ],
   "id": "b5a5ea4307cb1f55",
   "outputs": [
    {
     "name": "stdout",
     "output_type": "stream",
     "text": [
      "log(P1, 2) = -165.918507964625\n",
      "log(P2, 2) = -333.872560057326\n",
      "log(DFR, 2) = -165.918507964625\n"
     ]
    }
   ],
   "execution_count": 14
  },
  {
   "metadata": {
    "ExecuteTime": {
     "end_time": "2025-10-27T11:40:16.212565Z",
     "start_time": "2025-10-27T11:40:15.014195Z"
    }
   },
   "cell_type": "code",
   "source": [
    "# DAWN-alpha NIST-V\n",
    "n = 1024\n",
    "q = 769\n",
    "kg = 256\n",
    "kf = 96\n",
    "ks = 192\n",
    "ke = 256\n",
    "\n",
    "Ds = build_ternary_distribution(n, ks, ks)\n",
    "Df = build_ternary_distribution(n, kf, kf)\n",
    "De_dc = build_uniform_distribution(-1, 2)\n",
    "Dm = build_ternary_distribution(n, n//4, 0)\n",
    "De = build_ternary_distribution(n, ke, ke)\n",
    "De_e_dc = add_distribution(De, De_dc)\n",
    "Dg = build_ternary_distribution(n, kg, kg)\n",
    "\n",
    "Dfe = calculate_convolution_pdf(n, Df, De_e_dc)\n",
    "Dgs = calculate_convolution_pdf(n, Dg, Ds)\n",
    "Dfm = calculate_convolution_pdf(n, Df, Dm)\n",
    "Dgs_fe = add_distribution(Dgs, Dfe)\n",
    "Dgs_fe2 = add_distribution(Dgs_fe, Dgs_fe)\n",
    "Dgs_fe2_fm = add_distribution(Dgs_fe2, Dfm)\n",
    "\n",
    "_, P1 = calculate_DRF(Dgs_fe2_fm, q//2, n, 1)\n",
    "\n",
    "Dz = Dgs_fe2_fm\n",
    "Dabs_z = {}\n",
    "for vi in Dz:\n",
    "    if abs(vi) not in Dabs_z:\n",
    "        Dabs_z[abs(vi)] = Dz[vi]\n",
    "    else:\n",
    "        Dabs_z[abs(vi)] += Dz[vi]\n",
    "Dz2 = add_distribution(Dabs_z, Dabs_z)\n",
    "_, P2 = calculate_DRF(Dz2, q, 3 * n, 0)\n",
    "\n",
    "P = P1 + P2\n",
    "print('log(P1, 2) =', RR(log(P1, 2)))\n",
    "print('log(P2, 2) =', RR(log(P2, 2)))\n",
    "print('log(DFR, 2) =', RR(log(P, 2)))\n",
    "# -163 in DAWN paper"
   ],
   "id": "efa672bb7b4c9b04",
   "outputs": [
    {
     "name": "stdout",
     "output_type": "stream",
     "text": [
      "log(P1, 2) = -162.898750375684\n",
      "log(P2, 2) = -165.188115069431\n",
      "log(DFR, 2) = -162.630237438566\n"
     ]
    }
   ],
   "execution_count": 15
  },
  {
   "metadata": {
    "ExecuteTime": {
     "end_time": "2025-10-27T11:40:16.742455Z",
     "start_time": "2025-10-27T11:40:16.224927Z"
    }
   },
   "cell_type": "code",
   "source": [
    "# DAWN-alpha^prime NIST-V\n",
    "n = 1024\n",
    "q = 769\n",
    "kg = 256\n",
    "kf = 96\n",
    "ks = 192\n",
    "ke = 256\n",
    "\n",
    "Ds = build_ternary_distribution(n, ks, ks)\n",
    "Df = build_ternary_distribution(n, kf, kf)\n",
    "De_dc = {0: 1}\n",
    "Dm = build_ternary_distribution(n, n//4, 0)\n",
    "De = build_ternary_distribution(n, ke, ke)\n",
    "De_e_dc = add_distribution(De, De_dc)\n",
    "Dg = build_ternary_distribution(n, kg, kg)\n",
    "\n",
    "Dfe = calculate_convolution_pdf(n, Df, De_e_dc)\n",
    "Dgs = calculate_convolution_pdf(n, Dg, Ds)\n",
    "Dfm = calculate_convolution_pdf(n, Df, Dm)\n",
    "Dgs_fe = add_distribution(Dgs, Dfe)\n",
    "Dgs_fe2 = add_distribution(Dgs_fe, Dgs_fe)\n",
    "Dgs_fe2_fm = add_distribution(Dgs_fe2, Dfm)\n",
    "\n",
    "_, P1 = calculate_DRF(Dgs_fe2_fm, q//2, n, 0)\n",
    "\n",
    "Dz = Dgs_fe2_fm\n",
    "Dabs_z = {}\n",
    "for vi in Dz:\n",
    "    if abs(vi) not in Dabs_z:\n",
    "        Dabs_z[abs(vi)] = Dz[vi]\n",
    "    else:\n",
    "        Dabs_z[abs(vi)] += Dz[vi]\n",
    "Dz2 = add_distribution(Dabs_z, Dabs_z)\n",
    "_, P2 = calculate_DRF(Dz2, q, 3 * n, 0)\n",
    "\n",
    "P = P1 + P2\n",
    "print('log(P1, 2) =', RR(log(P1, 2)))\n",
    "print('log(P2, 2) =', RR(log(P2, 2)))\n",
    "print('log(DFR, 2) =', RR(log(P, 2)))\n",
    "# -163 in DAWN paper"
   ],
   "id": "568955a3201649a",
   "outputs": [
    {
     "name": "stdout",
     "output_type": "stream",
     "text": [
      "log(P1, 2) = -162.432401442482\n",
      "log(P2, 2) = -327.925076895214\n",
      "log(DFR, 2) = -162.432401442482\n"
     ]
    }
   ],
   "execution_count": 16
  },
  {
   "metadata": {
    "ExecuteTime": {
     "end_time": "2025-10-27T11:40:17.076747Z",
     "start_time": "2025-10-27T11:40:16.877322Z"
    }
   },
   "cell_type": "code",
   "source": [
    "# DAWN-beta NIST-I\n",
    "n = 512\n",
    "q = 257\n",
    "kg = 64\n",
    "kf = 32\n",
    "ks = 48\n",
    "ke = 64\n",
    "\n",
    "Ds = build_ternary_distribution(n, ks, ks)\n",
    "Df = build_ternary_distribution(n, kf, kf)\n",
    "De_dc = build_uniform_distribution(0, 1)\n",
    "Dm = build_ternary_distribution(n, n//4, 0)\n",
    "De = build_ternary_distribution(n, ke, ke)\n",
    "De_e_dc = add_distribution(De, De_dc)\n",
    "Dg = build_ternary_distribution(n, kg, kg)\n",
    "\n",
    "Dfe = calculate_convolution_pdf(n, Df, De_e_dc)\n",
    "Dgs = calculate_convolution_pdf(n, Dg, Ds)\n",
    "Dfm = calculate_convolution_pdf(n, Df, Dm)\n",
    "Dgs_fe = add_distribution(Dgs, Dfe)\n",
    "Dgs_fe2 = add_distribution(Dgs_fe, Dgs_fe)\n",
    "Dgs_fe2_fm = add_distribution(Dgs_fe2, Dfm)\n",
    "\n",
    "_, P1 = calculate_DRF(Dgs_fe2_fm, q//2, n, 1)\n",
    "\n",
    "Dz = Dgs_fe2_fm\n",
    "Dabs_z = {}\n",
    "for vi in Dz:\n",
    "    if abs(vi) not in Dabs_z:\n",
    "        Dabs_z[abs(vi)] = Dz[vi]\n",
    "    else:\n",
    "        Dabs_z[abs(vi)] += Dz[vi]\n",
    "Dz2 = add_distribution(Dabs_z, Dabs_z)\n",
    "_, P2 = calculate_DRF(Dz2, q, 3 * n, 0)\n",
    "\n",
    "P = P1 + P2\n",
    "print('log(P1, 2) =', RR(log(P1, 2)))\n",
    "print('log(P2, 2) =', RR(log(P2, 2)))\n",
    "print('log(DFR, 2) =', RR(log(P, 2)))\n",
    "# -130 in DAWN paper"
   ],
   "id": "b068738bcf8c32c4",
   "outputs": [
    {
     "name": "stdout",
     "output_type": "stream",
     "text": [
      "log(P1, 2) = -130.534566517095\n",
      "log(P2, 2) = -132.176710225544\n",
      "log(DFR, 2) = -130.133613253826\n"
     ]
    }
   ],
   "execution_count": 17
  },
  {
   "metadata": {
    "ExecuteTime": {
     "end_time": "2025-10-27T11:40:22.359773Z",
     "start_time": "2025-10-27T11:40:22.094128Z"
    }
   },
   "cell_type": "code",
   "source": [
    "# DAWN-beta NIST-V\n",
    "n = 1024\n",
    "q = 257\n",
    "kg = 96\n",
    "kf = 64\n",
    "ks = 96\n",
    "ke = 96\n",
    "\n",
    "Ds = build_ternary_distribution(n, ks, ks)\n",
    "Df = build_ternary_distribution(n, kf, kf)\n",
    "De_dc = {0: 1}\n",
    "Dm = build_ternary_distribution(n, n//4, 0)\n",
    "De = build_ternary_distribution(n, ke, ke)\n",
    "De_e_dc = add_distribution(De, De_dc)\n",
    "Dg = build_ternary_distribution(n, kg, kg)\n",
    "\n",
    "Dfe = calculate_convolution_pdf(n, Df, De_e_dc)\n",
    "Dgs = calculate_convolution_pdf(n, Dg, Ds)\n",
    "Dfm = calculate_convolution_pdf(n, Df, Dm)\n",
    "Dgs_fe = add_distribution(Dgs, Dfe)\n",
    "Dgs_fe2 = add_distribution(Dgs_fe, Dgs_fe)\n",
    "Dgs_fe2_fm = add_distribution(Dgs_fe2, Dfm)\n",
    "\n",
    "_, P1 = calculate_DRF(Dgs_fe2_fm, q//2, n, 1)\n",
    "\n",
    "Dz = Dgs_fe2_fm\n",
    "Dabs_z = {}\n",
    "for vi in Dz:\n",
    "    if abs(vi) not in Dabs_z:\n",
    "        Dabs_z[abs(vi)] = Dz[vi]\n",
    "    else:\n",
    "        Dabs_z[abs(vi)] += Dz[vi]\n",
    "Dz2 = add_distribution(Dabs_z, Dabs_z)\n",
    "_, P2 = calculate_DRF(Dz2, q, 3 * n, 0)\n",
    "\n",
    "P = P1 + P2\n",
    "print('log(P1, 2) =', RR(log(P1, 2)))\n",
    "print('log(P2, 2) =', RR(log(P2, 2)))\n",
    "print('log(DFR, 2) =', RR(log(P, 2)))\n",
    "# -138 in DAWN paper"
   ],
   "id": "35829fefa0e41ae0",
   "outputs": [
    {
     "name": "stdout",
     "output_type": "stream",
     "text": [
      "log(P1, 2) = -138.196964865357\n",
      "log(P2, 2) = -140.855811372537\n",
      "log(DFR, 2) = -137.984898452976\n"
     ]
    }
   ],
   "execution_count": 18
  },
  {
   "metadata": {
    "ExecuteTime": {
     "end_time": "2025-10-27T11:44:17.363628Z",
     "start_time": "2025-10-27T11:44:16.925524Z"
    }
   },
   "cell_type": "code",
   "source": [
    "# NEV NIST-I\n",
    "n = 512\n",
    "q = 769\n",
    "\n",
    "Ds = build_centered_binomial_law(1)\n",
    "Df = build_centered_binomial_law(1)\n",
    "De_dc = {0: 1}\n",
    "Dm = build_ternary_distribution(n, n//4, 0)\n",
    "De = build_ternary_distribution(6, 1, 1)\n",
    "De_e_dc = add_distribution(De, De_dc)\n",
    "Dg = build_centered_binomial_law(1)\n",
    "\n",
    "Dfe = calculate_convolution_pdf(n, Df, De_e_dc)\n",
    "Dgs = calculate_convolution_pdf(n, Dg, Ds)\n",
    "Dfm = calculate_convolution_pdf(n, Df, Dm)\n",
    "D2fe = add_distribution(Dfe, Dfe)\n",
    "Dgs_2fe = add_distribution(Dgs, D2fe)\n",
    "Dgs_2fe_e = add_distribution(Dgs_2fe, De)\n",
    "Dgs_2fe_e_fm = add_distribution(Dgs_2fe_e, Dfm)\n",
    "D2gs_2fe_e_fm = add_distribution(Dgs_2fe_e_fm, Dgs_2fe_e_fm)\n",
    "\n",
    "_, P = calculate_DRF(D2gs_2fe_e_fm, (q-1)//2-1, n//2, 0)\n",
    "print('log(DFR, 2) =', RR(log(P, 2)))\n",
    "# -138 in NEV paper"
   ],
   "id": "de232ff078f194c6",
   "outputs": [
    {
     "name": "stdout",
     "output_type": "stream",
     "text": [
      "log(DFR, 2) = -140.925203692606\n"
     ]
    }
   ],
   "execution_count": 25
  },
  {
   "metadata": {
    "ExecuteTime": {
     "end_time": "2025-10-27T11:44:46.597513Z",
     "start_time": "2025-10-27T11:44:45.056155Z"
    }
   },
   "cell_type": "code",
   "source": [
    "# NEV NIST-V\n",
    "n = 1024\n",
    "q = 769\n",
    "\n",
    "Ds = build_centered_binomial_law(1)\n",
    "Df = build_centered_binomial_law(1)\n",
    "De_dc = {0: 1}\n",
    "Dm = build_ternary_distribution(n, n//4, 0)\n",
    "De = build_ternary_distribution(6, 1, 1)\n",
    "De_e_dc = add_distribution(De, De_dc)\n",
    "Dg = build_centered_binomial_law(1)\n",
    "\n",
    "Dfe = calculate_convolution_pdf(n, Df, De_e_dc)\n",
    "Dgs = calculate_convolution_pdf(n, Dg, Ds)\n",
    "Dfm = calculate_convolution_pdf(n, Df, Dm)\n",
    "D2fe = add_distribution(Dfe, Dfe)\n",
    "Dgs_2fe = add_distribution(Dgs, D2fe)\n",
    "Dgs_2fe_e = add_distribution(Dgs_2fe, De)\n",
    "D2gs_2fe_e = add_distribution(Dgs_2fe_e, Dgs_2fe_e)\n",
    "D2gs_2fe_e_fm = add_distribution(D2gs_2fe_e, Dfm)\n",
    "D22gs_2fe_e_fm = add_distribution(D2gs_2fe_e_fm, D2gs_2fe_e_fm)\n",
    "\n",
    "_, P = calculate_DRF(D22gs_2fe_e_fm, q-1, n//4, 0)\n",
    "print('log(DFR, 2) =', RR(log(P, 2)))\n",
    "# -152 in NEV paper"
   ],
   "id": "5c89e0231428cbb3",
   "outputs": [
    {
     "name": "stdout",
     "output_type": "stream",
     "text": [
      "log(DFR, 2) = -156.745847041854\n"
     ]
    }
   ],
   "execution_count": 26
  },
  {
   "metadata": {
    "ExecuteTime": {
     "end_time": "2025-10-27T11:45:17.129935Z",
     "start_time": "2025-10-27T11:45:14.504227Z"
    }
   },
   "cell_type": "code",
   "source": [
    "# Kyber NIST-I\n",
    "n = 256\n",
    "q = 3329\n",
    "\n",
    "l = 2\n",
    "eta1 = 3\n",
    "eta2 = 2\n",
    "du = 10\n",
    "dv = 4\n",
    "Ds = build_centered_binomial_law(eta1)\n",
    "De = build_centered_binomial_law(eta1)\n",
    "Dr = build_centered_binomial_law(eta1)\n",
    "De1 = build_centered_binomial_law(eta2)\n",
    "De2 = build_centered_binomial_law(eta2)\n",
    "Dc1_compress = build_kyber_compress_distribution(q, du)\n",
    "Dc2_compress = build_kyber_compress_distribution(q, dv)\n",
    "\n",
    "Der = calculate_convolution_pdf(n, De, Dr)\n",
    "De1_c1_compress = add_distribution(De1, Dc1_compress)\n",
    "De1s = calculate_convolution_pdf(n, De1_c1_compress, Ds)\n",
    "De2_c2_compress = add_distribution(De2, Dc2_compress)\n",
    "De1sl = De1s\n",
    "for i in range(l-1):\n",
    "    De1sl = add_distribution(De1sl, De1s)\n",
    "Derl = Der\n",
    "for i in range(l-1):\n",
    "    Derl = add_distribution(Derl, Der)\n",
    "Der_e1s_e2 = add_distribution(add_distribution(De1sl, Derl), De2_c2_compress)\n",
    "\n",
    "_, P = calculate_DRF(Der_e1s_e2, q//4, n, 0)\n",
    "print('log(DFR, 2) =', RR(log(P, 2)))\n",
    "# -138 in Kyber paper"
   ],
   "id": "55fd917fe833fa8",
   "outputs": [
    {
     "name": "stdout",
     "output_type": "stream",
     "text": [
      "log(DFR, 2) = -139.124737704103\n"
     ]
    }
   ],
   "execution_count": 27
  },
  {
   "metadata": {
    "ExecuteTime": {
     "end_time": "2025-10-27T11:45:49.304812Z",
     "start_time": "2025-10-27T11:45:46.787409Z"
    }
   },
   "cell_type": "code",
   "source": [
    "# Kyber NIST-III\n",
    "n = 256\n",
    "q = 3329\n",
    "\n",
    "l = 3\n",
    "eta1 = 2\n",
    "eta2 = 2\n",
    "du = 10\n",
    "dv = 4\n",
    "Ds = build_centered_binomial_law(eta1)\n",
    "De = build_centered_binomial_law(eta1)\n",
    "Dr = build_centered_binomial_law(eta1)\n",
    "De1 = build_centered_binomial_law(eta2)\n",
    "De2 = build_centered_binomial_law(eta2)\n",
    "Dc1_compress = build_kyber_compress_distribution(q, du)\n",
    "Dc2_compress = build_kyber_compress_distribution(q, dv)\n",
    "\n",
    "Der = calculate_convolution_pdf(n, De, Dr)\n",
    "De1_c1_compress = add_distribution(De1, Dc1_compress)\n",
    "De1s = calculate_convolution_pdf(n, De1_c1_compress, Ds)\n",
    "De2_c2_compress = add_distribution(De2, Dc2_compress)\n",
    "Der_e1s_e2 = add_distribution(add_distribution(De1s, Der), De2_c2_compress)\n",
    "De1sl = De1s\n",
    "for i in range(l-1):\n",
    "    De1sl = add_distribution(De1sl, De1s)\n",
    "Derl = Der\n",
    "for i in range(l-1):\n",
    "    Derl = add_distribution(Derl, Der)\n",
    "Der_e1s_e2 = add_distribution(add_distribution(De1sl, Derl), De2_c2_compress)\n",
    "\n",
    "_, P = calculate_DRF(Der_e1s_e2, q//4, n, 0)\n",
    "print('log(DFR, 2) =', RR(log(P, 2)))\n",
    "# -164 in Kyber paper"
   ],
   "id": "6059985b6a538315",
   "outputs": [
    {
     "name": "stdout",
     "output_type": "stream",
     "text": [
      "log(DFR, 2) = -165.231559990863\n"
     ]
    }
   ],
   "execution_count": 29
  },
  {
   "metadata": {
    "ExecuteTime": {
     "end_time": "2025-10-27T11:46:05.651373Z",
     "start_time": "2025-10-27T11:46:03.013909Z"
    }
   },
   "cell_type": "code",
   "source": [
    "# Kyber NIST-V\n",
    "n = 256\n",
    "q = 3329\n",
    "\n",
    "l = 4\n",
    "eta1 = 2\n",
    "eta2 = 2\n",
    "du = 11\n",
    "dv = 5\n",
    "Ds = build_centered_binomial_law(eta1)\n",
    "De = build_centered_binomial_law(eta1)\n",
    "Dr = build_centered_binomial_law(eta1)\n",
    "De1 = build_centered_binomial_law(eta2)\n",
    "De2 = build_centered_binomial_law(eta2)\n",
    "Dc1_compress = build_kyber_compress_distribution(q, du)\n",
    "Dc2_compress = build_kyber_compress_distribution(q, dv)\n",
    "\n",
    "Der = calculate_convolution_pdf(n, De, Dr)\n",
    "De1_c1_compress = add_distribution(De1, Dc1_compress)\n",
    "De1s = calculate_convolution_pdf(n, De1_c1_compress, Ds)\n",
    "De2_c2_compress = add_distribution(De2, Dc2_compress)\n",
    "Der_e1s_e2 = add_distribution(add_distribution(De1s, Der), De2_c2_compress)\n",
    "De1sl = De1s\n",
    "for i in range(l-1):\n",
    "    De1sl = add_distribution(De1sl, De1s)\n",
    "Derl = Der\n",
    "for i in range(l-1):\n",
    "    Derl = add_distribution(Derl, Der)\n",
    "Der_e1s_e2 = add_distribution(add_distribution(De1sl, Derl), De2_c2_compress)\n",
    "\n",
    "_, P = calculate_DRF(Der_e1s_e2, q//4, n, 0)\n",
    "print('log(DFR, 2) =', RR(log(P, 2)))\n",
    "# -174 in Kyber paper"
   ],
   "id": "4f808d9823791c61",
   "outputs": [
    {
     "name": "stdout",
     "output_type": "stream",
     "text": [
      "log(DFR, 2) = -175.189361651326\n"
     ]
    }
   ],
   "execution_count": 30
  }
 ],
 "metadata": {
  "kernelspec": {
   "display_name": "SageMath 10.1",
   "language": "sage",
   "name": "sagemath"
  },
  "language_info": {
   "codemirror_mode": {
    "name": "ipython",
    "version": 3
   },
   "file_extension": ".py",
   "mimetype": "text/x-python",
   "name": "sage",
   "nbconvert_exporter": "python",
   "pygments_lexer": "ipython3",
   "version": "3.10.12"
  }
 },
 "nbformat": 4,
 "nbformat_minor": 5
}
