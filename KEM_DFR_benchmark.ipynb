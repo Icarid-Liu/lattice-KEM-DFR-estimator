{
 "cells": [
  {
   "cell_type": "code",
   "id": "2d69cfd339f10e9b",
   "metadata": {
    "vscode": {
     "languageId": "python"
    },
    "ExecuteTime": {
     "end_time": "2025-07-16T12:00:53.681814Z",
     "start_time": "2025-07-16T12:00:53.615919Z"
    }
   },
   "source": [
    "from sage.all import *\n",
    "import warnings\n",
    "warnings.filterwarnings(\"ignore\", category=DeprecationWarning)\n",
    "load('./DFR_utils.sage')"
   ],
   "outputs": [],
   "execution_count": 1
  },
  {
   "metadata": {
    "ExecuteTime": {
     "end_time": "2025-07-16T12:00:58.149771Z",
     "start_time": "2025-07-16T12:00:55.306076Z"
    }
   },
   "cell_type": "code",
   "source": [
    "# DAWN-alpha NIST-I\n",
    "n = 512\n",
    "q = 769\n",
    "kg = 160\n",
    "kf = 64\n",
    "ks = 96\n",
    "ke = 160\n",
    "\n",
    "Ds = build_ternary_distribution(n, ks, ks)\n",
    "Df = build_ternary_distribution(n, kf, kf)\n",
    "De_dc = build_uniform_distribution(-3, 3)\n",
    "Dm = build_ternary_distribution(n, n//4, 0)\n",
    "De = build_ternary_distribution(n, ke, ke)\n",
    "De_e_dc = add_distribution(De, De_dc)\n",
    "Dg = build_ternary_distribution(n, kg, kg)\n",
    "\n",
    "Dfe = calculate_convolution_pdf(n, Df, De_e_dc)\n",
    "Dgs = calculate_convolution_pdf(n, Dg, Ds)\n",
    "Dfm = calculate_convolution_pdf(n, Df, Dm)\n",
    "Dgs_fe = add_distribution(Dgs, Dfe)\n",
    "Dgs_fe2 = add_distribution(Dgs_fe, Dgs_fe)\n",
    "Dgs_fe2_fm = add_distribution(Dgs_fe2, Dfm)\n",
    "\n",
    "_, P1 = calculate_DRF(Dgs_fe2_fm, q//2, n, 1)\n",
    "\n",
    "Dz = Dgs_fe2_fm\n",
    "Dz2 = add_distribution(Dz, Dz)\n",
    "_, P2 = calculate_DRF(Dz2, q, 3 * n, 0)\n",
    "\n",
    "P = P1 + P2\n",
    "print('log(P1, 2) =', RR(log(P1, 2)))\n",
    "print('log(P2, 2) =', RR(log(P2, 2)))\n",
    "print('log(DFR, 2) =', RR(log(P, 2)))\n",
    "# -133 in DAWN paper"
   ],
   "id": "21ca6a16d57083eb",
   "outputs": [
    {
     "name": "stdout",
     "output_type": "stream",
     "text": [
      "log(P1, 2) = -133.146278336399\n",
      "log(P2, 2) = -136.525344150895\n",
      "log(DFR, 2) = -133.013876645125\n"
     ]
    }
   ],
   "execution_count": 2
  },
  {
   "metadata": {
    "ExecuteTime": {
     "end_time": "2025-07-16T12:01:00.751867Z",
     "start_time": "2025-07-16T12:00:58.160832Z"
    }
   },
   "cell_type": "code",
   "source": [
    "# DAWN-alpha NIST-V\n",
    "n = 1024\n",
    "q = 769\n",
    "kg = 256\n",
    "kf = 96\n",
    "ks = 192\n",
    "ke = 256\n",
    "\n",
    "Ds = build_ternary_distribution(n, ks, ks)\n",
    "Df = build_ternary_distribution(n, kf, kf)\n",
    "De_dc = build_uniform_distribution(-1, 2)\n",
    "Dm = build_ternary_distribution(n, n//4, 0)\n",
    "De = build_ternary_distribution(n, ke, ke)\n",
    "De_e_dc = add_distribution(De, De_dc)\n",
    "Dg = build_ternary_distribution(n, kg, kg)\n",
    "\n",
    "Dfe = calculate_convolution_pdf(n, Df, De_e_dc)\n",
    "Dgs = calculate_convolution_pdf(n, Dg, Ds)\n",
    "Dfm = calculate_convolution_pdf(n, Df, Dm)\n",
    "Dgs_fe = add_distribution(Dgs, Dfe)\n",
    "Dgs_fe2 = add_distribution(Dgs_fe, Dgs_fe)\n",
    "Dgs_fe2_fm = add_distribution(Dgs_fe2, Dfm)\n",
    "\n",
    "_, P1 = calculate_DRF(Dgs_fe2_fm, q//2, n, 1)\n",
    "\n",
    "Dz = Dgs_fe2_fm\n",
    "Dz2 = add_distribution(Dz, Dz)\n",
    "_, P2 = calculate_DRF(Dz2, q, 3 * n, 0)\n",
    "\n",
    "P = P1 + P2\n",
    "print('log(P1, 2) =', RR(log(P1, 2)))\n",
    "print('log(P2, 2) =', RR(log(P2, 2)))\n",
    "print('log(DFR, 2) =', RR(log(P, 2)))\n",
    "# -163 in DAWN paper"
   ],
   "id": "efa672bb7b4c9b04",
   "outputs": [
    {
     "name": "stdout",
     "output_type": "stream",
     "text": [
      "log(P1, 2) = -162.898750375684\n",
      "log(P2, 2) = -167.188115069431\n",
      "log(DFR, 2) = -162.826793629098\n"
     ]
    }
   ],
   "execution_count": 3
  },
  {
   "metadata": {
    "ExecuteTime": {
     "end_time": "2025-07-16T12:01:01.204637Z",
     "start_time": "2025-07-16T12:01:00.825008Z"
    }
   },
   "cell_type": "code",
   "source": [
    "# DAWN-beta NIST-I\n",
    "n = 512\n",
    "q = 257\n",
    "kg = 64\n",
    "kf = 32\n",
    "ks = 48\n",
    "ke = 64\n",
    "\n",
    "Ds = build_ternary_distribution(n, ks, ks)\n",
    "Df = build_ternary_distribution(n, kf, kf)\n",
    "De_dc = build_uniform_distribution(0, 1)\n",
    "Dm = build_ternary_distribution(n, n//4, 0)\n",
    "De = build_ternary_distribution(n, ke, ke)\n",
    "De_e_dc = add_distribution(De, De_dc)\n",
    "Dg = build_ternary_distribution(n, kg, kg)\n",
    "\n",
    "Dfe = calculate_convolution_pdf(n, Df, De_e_dc)\n",
    "Dgs = calculate_convolution_pdf(n, Dg, Ds)\n",
    "Dfm = calculate_convolution_pdf(n, Df, Dm)\n",
    "Dgs_fe = add_distribution(Dgs, Dfe)\n",
    "Dgs_fe2 = add_distribution(Dgs_fe, Dgs_fe)\n",
    "Dgs_fe2_fm = add_distribution(Dgs_fe2, Dfm)\n",
    "\n",
    "_, P1 = calculate_DRF(Dgs_fe2_fm, q//2, n, 1)\n",
    "\n",
    "Dz = Dgs_fe2_fm\n",
    "Dz2 = add_distribution(Dz, Dz)\n",
    "_, P2 = calculate_DRF(Dz2, q, 3 * n, 0)\n",
    "\n",
    "P = P1 + P2\n",
    "print('log(P1, 2) =', RR(log(P1, 2)))\n",
    "print('log(P2, 2) =', RR(log(P2, 2)))\n",
    "print('log(DFR, 2) =', RR(log(P, 2)))\n",
    "# -130 in DAWN paper"
   ],
   "id": "b068738bcf8c32c4",
   "outputs": [
    {
     "name": "stdout",
     "output_type": "stream",
     "text": [
      "log(P1, 2) = -130.534566517095\n",
      "log(P2, 2) = -134.176710225544\n",
      "log(DFR, 2) = -130.423408284505\n"
     ]
    }
   ],
   "execution_count": 4
  },
  {
   "metadata": {
    "ExecuteTime": {
     "end_time": "2025-07-16T12:01:01.816637Z",
     "start_time": "2025-07-16T12:01:01.249139Z"
    }
   },
   "cell_type": "code",
   "source": [
    "# DAWN-beta NIST-V\n",
    "n = 1024\n",
    "q = 257\n",
    "kg = 96\n",
    "kf = 64\n",
    "ks = 96\n",
    "ke = 96\n",
    "\n",
    "Ds = build_ternary_distribution(n, ks, ks)\n",
    "Df = build_ternary_distribution(n, kf, kf)\n",
    "De_dc = {0: 1}\n",
    "Dm = build_ternary_distribution(n, n//4, 0)\n",
    "De = build_ternary_distribution(n, ke, ke)\n",
    "De_e_dc = add_distribution(De, De_dc)\n",
    "Dg = build_ternary_distribution(n, kg, kg)\n",
    "\n",
    "Dfe = calculate_convolution_pdf(n, Df, De_e_dc)\n",
    "Dgs = calculate_convolution_pdf(n, Dg, Ds)\n",
    "Dfm = calculate_convolution_pdf(n, Df, Dm)\n",
    "Dgs_fe = add_distribution(Dgs, Dfe)\n",
    "Dgs_fe2 = add_distribution(Dgs_fe, Dgs_fe)\n",
    "Dgs_fe2_fm = add_distribution(Dgs_fe2, Dfm)\n",
    "\n",
    "_, P1 = calculate_DRF(Dgs_fe2_fm, q//2, n, 1)\n",
    "\n",
    "Dz = Dgs_fe2_fm\n",
    "Dz2 = add_distribution(Dz, Dz)\n",
    "_, P2 = calculate_DRF(Dz2, q, 3 * n, 0)\n",
    "\n",
    "P = P1 + P2\n",
    "print('log(P1, 2) =', RR(log(P1, 2)))\n",
    "print('log(P2, 2) =', RR(log(P2, 2)))\n",
    "print('log(DFR, 2) =', RR(log(P, 2)))\n",
    "# -138 in DAWN paper"
   ],
   "id": "35829fefa0e41ae0",
   "outputs": [
    {
     "name": "stdout",
     "output_type": "stream",
     "text": [
      "log(P1, 2) = -138.196964865357\n",
      "log(P2, 2) = -142.855811372537\n",
      "log(DFR, 2) = -138.140955016728\n"
     ]
    }
   ],
   "execution_count": 5
  },
  {
   "metadata": {
    "ExecuteTime": {
     "end_time": "2025-07-16T12:02:57.784470Z",
     "start_time": "2025-07-16T12:02:56.924845Z"
    }
   },
   "cell_type": "code",
   "source": [
    "# NEV NIST-I\n",
    "n = 512\n",
    "q = 769\n",
    "\n",
    "Ds = build_centered_binomial_law(1)\n",
    "Df = build_centered_binomial_law(1)\n",
    "De_dc = {0: 1}\n",
    "Dm = build_ternary_distribution(n, n//4, 0)\n",
    "De = build_ternary_distribution(6, 1, 1)\n",
    "De_e_dc = add_distribution(De, De_dc)\n",
    "Dg = build_centered_binomial_law(1)\n",
    "\n",
    "Dfe = calculate_convolution_pdf(n, Df, De_e_dc)\n",
    "Dgs = calculate_convolution_pdf(n, Dg, Ds)\n",
    "Dfm = calculate_convolution_pdf(n, Df, Dm)\n",
    "D2fe = add_distribution(Dfe, Dfe)\n",
    "Dgs_2fe = add_distribution(Dgs, D2fe)\n",
    "Dgs_2fe_e = add_distribution(Dgs_2fe, De)\n",
    "Dgs_2fe_e_fm = add_distribution(Dgs_2fe_e, Dfm)\n",
    "D2gs_2fe_e_fm = add_distribution(Dgs_2fe_e_fm, Dgs_2fe_e_fm)\n",
    "\n",
    "_, P = calculate_DRF(D2gs_2fe_e_fm, q//2-2, n, 0)\n",
    "print('log(DFR, 2) =', RR(log(P, 2)))\n",
    "# -138 in NEV paper"
   ],
   "id": "de232ff078f194c6",
   "outputs": [
    {
     "name": "stdout",
     "output_type": "stream",
     "text": [
      "log(DFR, 2) = -139.174400640335\n"
     ]
    }
   ],
   "execution_count": 15
  },
  {
   "metadata": {
    "ExecuteTime": {
     "end_time": "2025-07-16T12:02:56.120646Z",
     "start_time": "2025-07-16T12:02:53.721481Z"
    }
   },
   "cell_type": "code",
   "source": [
    "# NEV NIST-V\n",
    "n = 1024\n",
    "q = 769\n",
    "\n",
    "Ds = build_centered_binomial_law(1)\n",
    "Df = build_centered_binomial_law(1)\n",
    "De_dc = {0: 1}\n",
    "Dm = build_ternary_distribution(n, n//4, 0)\n",
    "De = build_ternary_distribution(6, 1, 1)\n",
    "De_e_dc = add_distribution(De, De_dc)\n",
    "Dg = build_centered_binomial_law(1)\n",
    "\n",
    "Dfe = calculate_convolution_pdf(n, Df, De_e_dc)\n",
    "Dgs = calculate_convolution_pdf(n, Dg, Ds)\n",
    "Dfm = calculate_convolution_pdf(n, Df, Dm)\n",
    "D2fe = add_distribution(Dfe, Dfe)\n",
    "Dgs_2fe = add_distribution(Dgs, D2fe)\n",
    "Dgs_2fe_e = add_distribution(Dgs_2fe, De)\n",
    "D2gs_2fe_e = add_distribution(Dgs_2fe_e, Dgs_2fe_e)\n",
    "D2gs_2fe_e_fm = add_distribution(D2gs_2fe_e, Dfm)\n",
    "D22gs_2fe_e_fm = add_distribution(D2gs_2fe_e_fm, D2gs_2fe_e_fm)\n",
    "\n",
    "_, P = calculate_DRF(D22gs_2fe_e_fm, q-2, n, 0)\n",
    "print('log(DFR, 2) =', RR(log(P, 2)))\n",
    "# -152 in NEV paper"
   ],
   "id": "5c89e0231428cbb3",
   "outputs": [
    {
     "name": "stdout",
     "output_type": "stream",
     "text": [
      "log(DFR, 2) = -154.327706469632\n"
     ]
    }
   ],
   "execution_count": 14
  },
  {
   "metadata": {
    "ExecuteTime": {
     "end_time": "2025-07-16T12:01:48.944015Z",
     "start_time": "2025-07-16T12:01:41.514774Z"
    }
   },
   "cell_type": "code",
   "source": [
    "# Kyber NIST-I\n",
    "n = 512\n",
    "q = 3329\n",
    "\n",
    "eta1 = 3\n",
    "eta2 = 2\n",
    "du = 10\n",
    "dv = 4\n",
    "Ds = build_centered_binomial_law(eta1)\n",
    "De = build_centered_binomial_law(eta1)\n",
    "Dr = build_centered_binomial_law(eta1)\n",
    "De1 = build_centered_binomial_law(eta2)\n",
    "De2 = build_centered_binomial_law(eta2)\n",
    "Dc1_compress = build_kyber_compress_distribution(q, du)\n",
    "Dc2_compress = build_kyber_compress_distribution(q, dv)\n",
    "\n",
    "Der = calculate_convolution_pdf(n, De, Dr)\n",
    "De1_c1_compress = add_distribution(De1, Dc1_compress)\n",
    "De1s = calculate_convolution_pdf(n, De1_c1_compress, Ds)\n",
    "De2_c2_compress = add_distribution(De2, Dc2_compress)\n",
    "Der_e1s_e2 = add_distribution(add_distribution(De1s, Der), De2_c2_compress)\n",
    "\n",
    "_, P = calculate_DRF(Der_e1s_e2, q//4, n, 0)\n",
    "print('log(DFR, 2) =', RR(log(P, 2)))\n",
    "# -138 in Kyber paper"
   ],
   "id": "55fd917fe833fa8",
   "outputs": [
    {
     "name": "stdout",
     "output_type": "stream",
     "text": [
      "log(DFR, 2) = -138.124737704103\n"
     ]
    }
   ],
   "execution_count": 9
  },
  {
   "metadata": {
    "ExecuteTime": {
     "end_time": "2025-07-16T12:01:53.872630Z",
     "start_time": "2025-07-16T12:01:48.961395Z"
    }
   },
   "cell_type": "code",
   "source": [
    "# Kyber NIST-III\n",
    "n = 768\n",
    "q = 3329\n",
    "\n",
    "eta1 = 2\n",
    "eta2 = 2\n",
    "du = 10\n",
    "dv = 4\n",
    "Ds = build_centered_binomial_law(eta1)\n",
    "De = build_centered_binomial_law(eta1)\n",
    "Dr = build_centered_binomial_law(eta1)\n",
    "De1 = build_centered_binomial_law(eta2)\n",
    "De2 = build_centered_binomial_law(eta2)\n",
    "Dc1_compress = build_kyber_compress_distribution(q, du)\n",
    "Dc2_compress = build_kyber_compress_distribution(q, dv)\n",
    "\n",
    "Der = calculate_convolution_pdf(n, De, Dr)\n",
    "De1_c1_compress = add_distribution(De1, Dc1_compress)\n",
    "De1s = calculate_convolution_pdf(n, De1_c1_compress, Ds)\n",
    "De2_c2_compress = add_distribution(De2, Dc2_compress)\n",
    "Der_e1s_e2 = add_distribution(add_distribution(De1s, Der), De2_c2_compress)\n",
    "\n",
    "_, P = calculate_DRF(Der_e1s_e2, q//4, n, 0)\n",
    "print('log(DFR, 2) =', RR(log(P, 2)))\n",
    "# -164 in Kyber paper"
   ],
   "id": "6059985b6a538315",
   "outputs": [
    {
     "name": "stdout",
     "output_type": "stream",
     "text": [
      "log(DFR, 2) = -163.646597490142\n"
     ]
    }
   ],
   "execution_count": 10
  },
  {
   "metadata": {
    "ExecuteTime": {
     "end_time": "2025-07-16T12:01:59.296626Z",
     "start_time": "2025-07-16T12:01:53.936785Z"
    }
   },
   "cell_type": "code",
   "source": [
    "# Kyber NIST-V\n",
    "n = 1024\n",
    "q = 3329\n",
    "\n",
    "eta1 = 2\n",
    "eta2 = 2\n",
    "du = 11\n",
    "dv = 5\n",
    "Ds = build_centered_binomial_law(eta1)\n",
    "De = build_centered_binomial_law(eta1)\n",
    "Dr = build_centered_binomial_law(eta1)\n",
    "De1 = build_centered_binomial_law(eta2)\n",
    "De2 = build_centered_binomial_law(eta2)\n",
    "Dc1_compress = build_kyber_compress_distribution(q, du)\n",
    "Dc2_compress = build_kyber_compress_distribution(q, dv)\n",
    "\n",
    "Der = calculate_convolution_pdf(n, De, Dr)\n",
    "De1_c1_compress = add_distribution(De1, Dc1_compress)\n",
    "De1s = calculate_convolution_pdf(n, De1_c1_compress, Ds)\n",
    "De2_c2_compress = add_distribution(De2, Dc2_compress)\n",
    "Der_e1s_e2 = add_distribution(add_distribution(De1s, Der), De2_c2_compress)\n",
    "\n",
    "_, P = calculate_DRF(Der_e1s_e2, q//4, n, 0)\n",
    "print('log(DFR, 2) =', RR(log(P, 2)))\n",
    "# -174 in Kyber paper"
   ],
   "id": "4f808d9823791c61",
   "outputs": [
    {
     "name": "stdout",
     "output_type": "stream",
     "text": [
      "log(DFR, 2) = -173.189361651326\n"
     ]
    }
   ],
   "execution_count": 11
  }
 ],
 "metadata": {
  "kernelspec": {
   "display_name": "SageMath 10.1",
   "language": "sage",
   "name": "sagemath"
  },
  "language_info": {
   "codemirror_mode": {
    "name": "ipython",
    "version": 3
   },
   "file_extension": ".py",
   "mimetype": "text/x-python",
   "name": "sage",
   "nbconvert_exporter": "python",
   "pygments_lexer": "ipython3",
   "version": "3.10.12"
  }
 },
 "nbformat": 4,
 "nbformat_minor": 5
}
